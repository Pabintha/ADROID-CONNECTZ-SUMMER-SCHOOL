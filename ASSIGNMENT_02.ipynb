{
  "nbformat": 4,
  "nbformat_minor": 0,
  "metadata": {
    "colab": {
      "provenance": [],
      "authorship_tag": "ABX9TyOgbulcy4afzFfFnoz86hWE",
      "include_colab_link": true
    },
    "kernelspec": {
      "name": "python3",
      "display_name": "Python 3"
    },
    "language_info": {
      "name": "python"
    }
  },
  "cells": [
    {
      "cell_type": "markdown",
      "metadata": {
        "id": "view-in-github",
        "colab_type": "text"
      },
      "source": [
        "<a href=\"https://colab.research.google.com/github/Pabintha/ADROID-CONNECTZ-SUMMER-SCHOOL-ASSIGNMENTS/blob/main/ASSIGNMENT_02.ipynb\" target=\"_parent\"><img src=\"https://colab.research.google.com/assets/colab-badge.svg\" alt=\"Open In Colab\"/></a>"
      ]
    },
    {
      "cell_type": "markdown",
      "source": [
        "**CHALLENGE QUESTION**"
      ],
      "metadata": {
        "id": "VLEjyWNCHlYx"
      }
    },
    {
      "cell_type": "code",
      "source": [
        "L = [\"Ram\", 1, \"Shyam\", 2, \"Aman\", 3]\n",
        "\n",
        "# Sort the list using a custom key\n",
        "L.sort(key=lambda x: str(x))\n",
        "\n",
        "print(L)\n"
      ],
      "metadata": {
        "colab": {
          "base_uri": "https://localhost:8080/"
        },
        "id": "OkxgwoFMHkYu",
        "outputId": "8e6ea74b-20da-4865-fa16-924476979a21"
      },
      "execution_count": null,
      "outputs": [
        {
          "output_type": "stream",
          "name": "stdout",
          "text": [
            "[1, 2, 3, 'Aman', 'Ram', 'Shyam']\n"
          ]
        }
      ]
    }
  ]
}